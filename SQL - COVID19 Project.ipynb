{
 "cells": [
  {
   "cell_type": "markdown",
   "id": "0cc1a24d",
   "metadata": {},
   "source": [
    "# SQL Data Exploration - COVID19 Project \n",
    "\n",
    "Using publically available data from https://ourworldindata.org/covid-deaths \n",
    "\n",
    "## Stage 1 - Database Normalisation\n",
    "Having downloaded the data, the large table is split into 2 smaller tables and saved as csv files. ___Note:the date format has to be year-month-day___\n",
    "\n",
    "__Table 1:__ _Death data:_ Move the population column next to the date - remove the vacc stuff (everything from AA onwards). Save as new... This avoids having to do a join on every query. Save as CovidDeaths\n",
    "\n",
    "__Table 2:__ _Vaccination data:_ On full table delete everything from Z to E. \n",
    "\n",
    "## Stage 2 - Uploading to Azure\n",
    "This is different using the docker - to do this I have installed the following extension: SQL Server Import\n",
    "\n",
    "1. Right click the database and import wizard - select the server. \n",
    "2. Select the CSV file to import - make sure the location is set to the correct database from the default of master.\n",
    "3. Look at the variable types and allow null values. If these are not correct then the table will not be imported. It will tell you which rows and why so you can alter to float, text, varchar etc. (this is where correct date format comes in).\n",
    "\n",
    "## Stage 3 - Data Exploration\n",
    "\n",
    "#### Some simple Data Exploration within the CovidDeath table\n",
    "When aggregating you neede a group by function\n",
    "e.g."
   ]
  },
  {
   "cell_type": "code",
   "execution_count": null,
   "id": "f47c2109",
   "metadata": {},
   "outputs": [],
   "source": [
    "-- Showing countries with highest death rate\n",
    "SELECT location, MAX(total_deaths) as totaldeathcount \n",
    "FROM COVID_PORTFOLIO_PROJECT.dbo.CovidDeaths\n",
    "GROUP BY LOCATION\n",
    "ORDER BY totaldeathcount DESC"
   ]
  },
  {
   "cell_type": "markdown",
   "id": "7d49b328",
   "metadata": {},
   "source": [
    "If the data has the wrong variable type (e.g. varchar when it shoud be int) you can cast: \n",
    "_note: I have done this when importing the csv using the import wizard so my values are set as 'float'_ "
   ]
  },
  {
   "cell_type": "code",
   "execution_count": null,
   "id": "0a7112a4",
   "metadata": {},
   "outputs": [],
   "source": [
    "-- Showing countries with highest death rate\n",
    "SELECT location, MAX(cast(total_deaths as INT)) as totaldeathcount \n",
    "FROM COVID_PORTFOLIO_PROJECT.dbo.CovidDeaths\n",
    "GROUP BY LOCATION\n",
    "ORDER BY totaldeathcount DESC"
   ]
  },
  {
   "cell_type": "markdown",
   "id": "88a39f1c",
   "metadata": {},
   "source": [
    "When looking through the data we can see that there are continents listed as locations - i.e. their location is set as a continent rather than a country. This means that grouping the locations will show continent summaries too which we don't always want... By using the WHERE clause we can remove these from the queries:"
   ]
  },
  {
   "cell_type": "code",
   "execution_count": null,
   "id": "361e040f",
   "metadata": {},
   "outputs": [],
   "source": [
    "-- Showing countries with highest death rate\n",
    "SELECT location, MAX(cast(total_deaths as INT)) as totaldeathcount \n",
    "FROM COVID_PORTFOLIO_PROJECT.dbo.CovidDeaths\n",
    "WHERE continent is not NULL\n",
    "GROUP BY LOCATION\n",
    "ORDER BY totaldeathcount DESC"
   ]
  },
  {
   "cell_type": "markdown",
   "id": "c0403848",
   "metadata": {},
   "source": [
    "To group by date - you need to use aggregate functions on the other variables. "
   ]
  },
  {
   "cell_type": "code",
   "execution_count": null,
   "id": "385d2503",
   "metadata": {},
   "outputs": [],
   "source": [
    "SELECT date, SUM(new_cases) as totalcases, SUM(new_deaths) as totaldeaths, (SUM(new_deaths)/SUM(new_cases))*100 as Deathpercentage -- sums new cases for each date (i.e. per day) and the new deaths to give totals\n",
    "FROM COVID_PORTFOLIO_PROJECT.dbo.CovidDeaths\n",
    "WHERE continent is not NULL\n",
    "GROUP BY date\n",
    "ORDER BY 1,2"
   ]
  },
  {
   "cell_type": "markdown",
   "id": "78443729",
   "metadata": {},
   "source": [
    "#### Joining the tables: \n",
    "The tables can be joined on the location and date. Note that the join requires you to specify which table's variable you are using \n",
    "i.e. in this case the CovidDeaths table is renamed as dea and the select command calls the dea.continent etc. This is required throughout and hence why the renaming of the table saves time when typing out."
   ]
  },
  {
   "cell_type": "code",
   "execution_count": null,
   "id": "0622eaaf",
   "metadata": {},
   "outputs": [],
   "source": [
    "-- Looking at total population vs vaccinations\n",
    "select dea.continent, dea.location, dea.date, dea.population, vac.new_vaccinations \n",
    "FROM covid_portfolio_project.dbo.CovidDeaths as dea JOIN covid_portfolio_project.dbo.CovidVaccinations as vac\n",
    "    ON dea.LOCATION = vac.location\n",
    "    and dea.DATE = vac.date\n",
    "    WHERE dea.continent is not NULL\n",
    "order by 1, 2"
   ]
  },
  {
   "cell_type": "markdown",
   "id": "2bc2ea54",
   "metadata": {},
   "source": [
    "#### Partition By\n",
    "\n",
    "Using the PARTITION BY allows us to select just one column we want to use our aggregate function on (whereas a GROUP BY would roll them all up into 1)"
   ]
  },
  {
   "cell_type": "code",
   "execution_count": null,
   "id": "72eb90c7",
   "metadata": {},
   "outputs": [],
   "source": [
    "-- Looking at total population vs vaccinations\n",
    "select dea.continent, dea.location, dea.date, dea.population, vac.new_vaccinations\n",
    ",SUM(vac.new_vaccinations) OVER (PARTITION by dea.location order by dea.LOCATION, dea.date) \n",
    "FROM covid_portfolio_project.dbo.CovidDeaths as dea JOIN covid_portfolio_project.dbo.CovidVaccinations as vac\n",
    "    ON dea.LOCATION = vac.location\n",
    "    and dea.DATE = vac.date\n",
    "    WHERE dea.continent is not NULL\n",
    "order by 2,3"
   ]
  },
  {
   "cell_type": "markdown",
   "id": "94c4c94e",
   "metadata": {},
   "source": [
    "#### CTE to create a rolling count of people vaccinated "
   ]
  },
  {
   "cell_type": "code",
   "execution_count": null,
   "id": "bdd08637",
   "metadata": {},
   "outputs": [],
   "source": [
    "-- Use CTE\n",
    "With PopvsVac (Continent, Location, Date, Population, New_Vaccinations, RollingPeopleVaccinated)\n",
    "as\n",
    "(\n",
    "Select dea.continent, dea.location, dea.date, dea.population, vac.new_vaccinations\n",
    ", SUM(vac.new_vaccinations) OVER (Partition by dea.Location Order by dea.location, dea.Date) as RollingPeopleVaccinated\n",
    "--, (RollingPeopleVaccinated/population)*100\n",
    "From covid_portfolio_project..CovidDeaths dea\n",
    "Join covid_portfolio_project..CovidVaccinations vac\n",
    "\tOn dea.location = vac.location\n",
    "\tand dea.date = vac.date\n",
    "where dea.continent is not null \n",
    ")\n",
    "Select *, (RollingPeopleVaccinated/Population)*100\n",
    "From PopvsVac"
   ]
  },
  {
   "cell_type": "markdown",
   "id": "8ceeea02",
   "metadata": {},
   "source": [
    "#### Temp table to create a rolling count of people vaccinated"
   ]
  },
  {
   "cell_type": "code",
   "execution_count": null,
   "id": "b1b7ca83",
   "metadata": {},
   "outputs": [],
   "source": [
    "-- Temp Table\n",
    "DROP TABLE if exists #percentpopulationvaccinated\n",
    "CREATE TABLE #percentpopulationvaccinated\n",
    "(\n",
    "continent nvarchar(255),\n",
    "Location nvarchar(255),\n",
    "date datetime, \n",
    "population numeric,\n",
    "new_vaccinations numeric, \n",
    "rollingpeoplevaccinated numeric\n",
    ")\n",
    "\n",
    "INSERT INTO #percentpopulationvaccinated\n",
    "Select dea.continent, dea.location, dea.date, dea.population, vac.new_vaccinations\n",
    ", SUM(vac.new_vaccinations) OVER (Partition by dea.Location Order by dea.location, dea.Date) as RollingPeopleVaccinated\n",
    "--, (RollingPeopleVaccinated/population)*100\n",
    "From covid_portfolio_project..CovidDeaths dea\n",
    "Join covid_portfolio_project..CovidVaccinations vac\n",
    "\tOn dea.location = vac.location\n",
    "\tand dea.date = vac.date\n",
    "where dea.continent is not null \n",
    "\n",
    "Select *, (rollingpeoplevaccinated/population)*100 as percentofpeoplevaccinated\n",
    "FROM #percentpopulationvaccinated"
   ]
  }
 ],
 "metadata": {
  "kernelspec": {
   "display_name": "Python 3 (ipykernel)",
   "language": "python",
   "name": "python3"
  },
  "language_info": {
   "codemirror_mode": {
    "name": "ipython",
    "version": 3
   },
   "file_extension": ".py",
   "mimetype": "text/x-python",
   "name": "python",
   "nbconvert_exporter": "python",
   "pygments_lexer": "ipython3",
   "version": "3.10.9"
  }
 },
 "nbformat": 4,
 "nbformat_minor": 5
}
